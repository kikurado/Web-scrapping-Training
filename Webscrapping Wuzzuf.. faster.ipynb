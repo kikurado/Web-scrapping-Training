{
 "cells": [
  {
   "cell_type": "code",
   "execution_count": 1,
   "id": "fb857ccb",
   "metadata": {},
   "outputs": [],
   "source": [
    "import pandas as pd\n",
    "from bs4 import BeautifulSoup as bs\n",
    "import requests"
   ]
  },
  {
   "cell_type": "code",
   "execution_count": 2,
   "id": "a299a83a",
   "metadata": {},
   "outputs": [],
   "source": [
    "url = 'https://wuzzuf.net/search/jobs/?q=Data+Analyst&a=hpb'"
   ]
  },
  {
   "cell_type": "code",
   "execution_count": 3,
   "id": "454a81fd",
   "metadata": {},
   "outputs": [],
   "source": [
    "page = requests.get(url)"
   ]
  },
  {
   "cell_type": "code",
   "execution_count": 4,
   "id": "3c6415b1",
   "metadata": {},
   "outputs": [],
   "source": [
    "soup = bs(page.text,'html')"
   ]
  },
  {
   "cell_type": "code",
   "execution_count": 5,
   "id": "237b5942",
   "metadata": {},
   "outputs": [],
   "source": [
    "container = soup.find_all('div',class_ = 'css-1gatmva e1v1l3u10')[0]"
   ]
  },
  {
   "cell_type": "code",
   "execution_count": 6,
   "id": "36debf79",
   "metadata": {},
   "outputs": [],
   "source": [
    "data  = container.find_all('h2')"
   ]
  },
  {
   "cell_type": "code",
   "execution_count": 7,
   "id": "ae3fb030",
   "metadata": {},
   "outputs": [],
   "source": [
    "title = [d.text.strip() for d in data]"
   ]
  },
  {
   "cell_type": "code",
   "execution_count": 8,
   "id": "bc3f3b53",
   "metadata": {},
   "outputs": [],
   "source": [
    "data2 = container.find_all('a',class_ ='css-17s97q8')"
   ]
  },
  {
   "cell_type": "code",
   "execution_count": 9,
   "id": "cdfff543",
   "metadata": {},
   "outputs": [],
   "source": [
    "company = [d2.text.strip() for d2 in data2]"
   ]
  },
  {
   "cell_type": "code",
   "execution_count": 10,
   "id": "e8508540",
   "metadata": {},
   "outputs": [],
   "source": [
    "company = company[0].replace(' -','')"
   ]
  },
  {
   "cell_type": "code",
   "execution_count": 11,
   "id": "a3c19483",
   "metadata": {},
   "outputs": [],
   "source": [
    "title = title[0]"
   ]
  },
  {
   "cell_type": "code",
   "execution_count": 12,
   "id": "46c55b43",
   "metadata": {},
   "outputs": [],
   "source": [
    "containers = soup.find_all('div',class_ = 'css-1gatmva e1v1l3u10')"
   ]
  },
  {
   "cell_type": "code",
   "execution_count": 21,
   "id": "f8f81063",
   "metadata": {},
   "outputs": [],
   "source": [
    "final_title = []\n",
    "final_company = []\n",
    "for container in containers:\n",
    "    title_extract = container.find_all('h2')\n",
    "    title = [data.text.strip() for data in title_extract]\n",
    "    title = title[0]\n",
    "    company_extract = container.find_all('a',class_ ='css-17s97q8')\n",
    "    company = [data2.text.strip() for data2 in company_extract]\n",
    "    company = company[0].replace(' -','')\n",
    "    final_title.append(title)\n",
    "    final_company.append(company)\n",
    "    "
   ]
  },
  {
   "cell_type": "code",
   "execution_count": 22,
   "id": "d895f614",
   "metadata": {},
   "outputs": [],
   "source": [
    "columns_ready = ['Title','Company_name']"
   ]
  },
  {
   "cell_type": "code",
   "execution_count": 23,
   "id": "557c13bb",
   "metadata": {},
   "outputs": [],
   "source": [
    "df = pd.DataFrame({'Title':final_title,'Company':final_company})"
   ]
  },
  {
   "cell_type": "code",
   "execution_count": 24,
   "id": "7a0bee49",
   "metadata": {},
   "outputs": [
    {
     "data": {
      "text/html": [
       "<div>\n",
       "<style scoped>\n",
       "    .dataframe tbody tr th:only-of-type {\n",
       "        vertical-align: middle;\n",
       "    }\n",
       "\n",
       "    .dataframe tbody tr th {\n",
       "        vertical-align: top;\n",
       "    }\n",
       "\n",
       "    .dataframe thead th {\n",
       "        text-align: right;\n",
       "    }\n",
       "</style>\n",
       "<table border=\"1\" class=\"dataframe\">\n",
       "  <thead>\n",
       "    <tr style=\"text-align: right;\">\n",
       "      <th></th>\n",
       "      <th>Title</th>\n",
       "      <th>Company</th>\n",
       "    </tr>\n",
       "  </thead>\n",
       "  <tbody>\n",
       "    <tr>\n",
       "      <th>0</th>\n",
       "      <td>Data Analyst</td>\n",
       "      <td>NOK for Human Capital Solutions</td>\n",
       "    </tr>\n",
       "    <tr>\n",
       "      <th>1</th>\n",
       "      <td>Senior Data Analyst (Tableau Developer)</td>\n",
       "      <td>Fawry for Banking Technology and Electronic Pa...</td>\n",
       "    </tr>\n",
       "    <tr>\n",
       "      <th>2</th>\n",
       "      <td>Data Analyst</td>\n",
       "      <td>Qparts</td>\n",
       "    </tr>\n",
       "    <tr>\n",
       "      <th>3</th>\n",
       "      <td>Senior Business Data Analyst</td>\n",
       "      <td>Sky Distribution</td>\n",
       "    </tr>\n",
       "    <tr>\n",
       "      <th>4</th>\n",
       "      <td>Data Analyst</td>\n",
       "      <td>ComeX Engineering Company</td>\n",
       "    </tr>\n",
       "    <tr>\n",
       "      <th>5</th>\n",
       "      <td>Repair Order Specialist (Data Analyst)</td>\n",
       "      <td>OPPO Egypt</td>\n",
       "    </tr>\n",
       "    <tr>\n",
       "      <th>6</th>\n",
       "      <td>Export Data Analyst</td>\n",
       "      <td>Evyap Egypt</td>\n",
       "    </tr>\n",
       "    <tr>\n",
       "      <th>7</th>\n",
       "      <td>Data Analyst</td>\n",
       "      <td>CRIF EGYPT</td>\n",
       "    </tr>\n",
       "    <tr>\n",
       "      <th>8</th>\n",
       "      <td>Data Analyst</td>\n",
       "      <td>Confidential</td>\n",
       "    </tr>\n",
       "    <tr>\n",
       "      <th>9</th>\n",
       "      <td>Data Analyst</td>\n",
       "      <td>Confidential</td>\n",
       "    </tr>\n",
       "    <tr>\n",
       "      <th>10</th>\n",
       "      <td>Pricing Analyst</td>\n",
       "      <td>Target Recruitment  &amp; HR Solutions</td>\n",
       "    </tr>\n",
       "    <tr>\n",
       "      <th>11</th>\n",
       "      <td>Junior Data Analyst - Remote Work - US Clients</td>\n",
       "      <td>InitRes</td>\n",
       "    </tr>\n",
       "    <tr>\n",
       "      <th>12</th>\n",
       "      <td>Data Analyst</td>\n",
       "      <td>Confidential</td>\n",
       "    </tr>\n",
       "    <tr>\n",
       "      <th>13</th>\n",
       "      <td>Senior Business Analyst (banking) - In KSA</td>\n",
       "      <td>Ejada</td>\n",
       "    </tr>\n",
       "    <tr>\n",
       "      <th>14</th>\n",
       "      <td>Senior Treasury Analyst</td>\n",
       "      <td>LOLC EL-OULA MICROFINANCE EGYPT’</td>\n",
       "    </tr>\n",
       "  </tbody>\n",
       "</table>\n",
       "</div>"
      ],
      "text/plain": [
       "                                             Title  \\\n",
       "0                                     Data Analyst   \n",
       "1          Senior Data Analyst (Tableau Developer)   \n",
       "2                                     Data Analyst   \n",
       "3                     Senior Business Data Analyst   \n",
       "4                                     Data Analyst   \n",
       "5           Repair Order Specialist (Data Analyst)   \n",
       "6                              Export Data Analyst   \n",
       "7                                     Data Analyst   \n",
       "8                                     Data Analyst   \n",
       "9                                     Data Analyst   \n",
       "10                                 Pricing Analyst   \n",
       "11  Junior Data Analyst - Remote Work - US Clients   \n",
       "12                                    Data Analyst   \n",
       "13      Senior Business Analyst (banking) - In KSA   \n",
       "14                         Senior Treasury Analyst   \n",
       "\n",
       "                                              Company  \n",
       "0                     NOK for Human Capital Solutions  \n",
       "1   Fawry for Banking Technology and Electronic Pa...  \n",
       "2                                              Qparts  \n",
       "3                                    Sky Distribution  \n",
       "4                           ComeX Engineering Company  \n",
       "5                                         OPPO Egypt   \n",
       "6                                         Evyap Egypt  \n",
       "7                                          CRIF EGYPT  \n",
       "8                                        Confidential  \n",
       "9                                        Confidential  \n",
       "10                Target Recruitment  & HR Solutions   \n",
       "11                                            InitRes  \n",
       "12                                       Confidential  \n",
       "13                                             Ejada   \n",
       "14                   LOLC EL-OULA MICROFINANCE EGYPT’  "
      ]
     },
     "execution_count": 24,
     "metadata": {},
     "output_type": "execute_result"
    }
   ],
   "source": [
    "df"
   ]
  },
  {
   "cell_type": "code",
   "execution_count": null,
   "id": "fe115d67",
   "metadata": {},
   "outputs": [],
   "source": []
  }
 ],
 "metadata": {
  "kernelspec": {
   "display_name": "Python 3 (ipykernel)",
   "language": "python",
   "name": "python3"
  },
  "language_info": {
   "codemirror_mode": {
    "name": "ipython",
    "version": 3
   },
   "file_extension": ".py",
   "mimetype": "text/x-python",
   "name": "python",
   "nbconvert_exporter": "python",
   "pygments_lexer": "ipython3",
   "version": "3.10.9"
  }
 },
 "nbformat": 4,
 "nbformat_minor": 5
}
